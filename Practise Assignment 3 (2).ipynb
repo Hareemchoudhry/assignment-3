{
 "cells": [
  {
   "cell_type": "markdown",
   "metadata": {},
   "source": [
    "# Q1:"
   ]
  },
  {
   "cell_type": "markdown",
   "metadata": {},
   "source": [
    "Think of at least three kinds of your favorite pizza. Store these pizza names in a list, and then use a for loop to print the name of each pizza."
   ]
  },
  {
   "cell_type": "code",
   "execution_count": 3,
   "metadata": {},
   "outputs": [
    {
     "name": "stdout",
     "output_type": "stream",
     "text": [
      "chicken tikka\n",
      "bbq pizza\n",
      "fajita\n",
      "\n",
      "I really love pizza!\n"
     ]
    }
   ],
   "source": [
    "favorite_pizzas = ['chicken tikka', 'bbq pizza', 'fajita']\n",
    "for pizza in favorite_pizzas:\n",
    "    print(pizza)\n",
    "\n",
    "\n",
    "print(\"\\nI really love pizza!\")"
   ]
  },
  {
   "cell_type": "markdown",
   "metadata": {},
   "source": [
    "# Q2"
   ]
  },
  {
   "cell_type": "markdown",
   "metadata": {},
   "source": [
    "Start with your last question , Modify your for loop to print a sentence using the name of the pizza\n",
    "instead of printing just the name of the pizza. For each pizza you should\n",
    "have one line of output containing a simple statement like I like pepperoni\n",
    "pizza."
   ]
  },
  {
   "cell_type": "code",
   "execution_count": 13,
   "metadata": {},
   "outputs": [],
   "source": [
    "pizza = ['bbq pizza','Fajita Pizza','chicken tikka']\n"
   ]
  },
  {
   "cell_type": "code",
   "execution_count": 14,
   "metadata": {},
   "outputs": [
    {
     "name": "stdout",
     "output_type": "stream",
     "text": [
      "I like bbq pizza\n",
      "I like Fajita Pizza\n",
      "I like chicken tikka\n"
     ]
    }
   ],
   "source": [
    "for i in pizza:\n",
    "    print(f\"I like {i}\")"
   ]
  },
  {
   "cell_type": "markdown",
   "metadata": {},
   "source": [
    "# Q3:"
   ]
  },
  {
   "cell_type": "markdown",
   "metadata": {},
   "source": [
    "Use a for loop to print the numbers from 1 to 20,\n",
    "inclusive."
   ]
  },
  {
   "cell_type": "code",
   "execution_count": 22,
   "metadata": {},
   "outputs": [
    {
     "name": "stdout",
     "output_type": "stream",
     "text": [
      "1\n",
      "2\n",
      "3\n",
      "4\n",
      "5\n",
      "6\n",
      "7\n",
      "8\n",
      "9\n",
      "10\n",
      "11\n",
      "12\n",
      "13\n",
      "14\n",
      "15\n",
      "16\n",
      "17\n",
      "18\n",
      "19\n",
      "20\n"
     ]
    }
   ],
   "source": [
    "numbers = list(range(1, 21))\n",
    "\n",
    "for number in numbers:\n",
    "    print(number)"
   ]
  },
  {
   "cell_type": "markdown",
   "metadata": {},
   "source": [
    "# Q4:"
   ]
  },
  {
   "cell_type": "markdown",
   "metadata": {},
   "source": [
    "Use the third argument of the range() function to make a list\n",
    "of the odd numbers from 1 to 20. Use a for loop to print each number."
   ]
  },
  {
   "cell_type": "code",
   "execution_count": 21,
   "metadata": {},
   "outputs": [
    {
     "name": "stdout",
     "output_type": "stream",
     "text": [
      "1\n",
      "3\n",
      "5\n",
      "7\n",
      "9\n",
      "11\n",
      "13\n",
      "15\n",
      "17\n",
      "19\n"
     ]
    }
   ],
   "source": [
    "for x in range(1,20,2):\n",
    "    print(x)"
   ]
  },
  {
   "cell_type": "code",
   "execution_count": null,
   "metadata": {},
   "outputs": [],
   "source": []
  },
  {
   "cell_type": "code",
   "execution_count": null,
   "metadata": {},
   "outputs": [],
   "source": []
  },
  {
   "cell_type": "markdown",
   "metadata": {},
   "source": [
    "# Q5:"
   ]
  },
  {
   "cell_type": "markdown",
   "metadata": {},
   "source": [
    "Make a list of the multiples of 3 from 3 to 30. Use a for loop to\n",
    "print the numbers in your list."
   ]
  },
  {
   "cell_type": "code",
   "execution_count": 23,
   "metadata": {},
   "outputs": [
    {
     "name": "stdout",
     "output_type": "stream",
     "text": [
      "3\n",
      "6\n",
      "9\n",
      "12\n",
      "15\n",
      "18\n",
      "21\n",
      "24\n",
      "27\n",
      "30\n"
     ]
    }
   ],
   "source": [
    "multiples_of_3 = [value for value in range(3, 31, 3)]\n",
    "\n",
    "for multiple in multiples_of_3:\n",
    "    print(multiple)"
   ]
  },
  {
   "cell_type": "code",
   "execution_count": null,
   "metadata": {},
   "outputs": [],
   "source": []
  },
  {
   "cell_type": "code",
   "execution_count": null,
   "metadata": {},
   "outputs": [],
   "source": []
  },
  {
   "cell_type": "code",
   "execution_count": null,
   "metadata": {},
   "outputs": [],
   "source": []
  },
  {
   "cell_type": "markdown",
   "metadata": {},
   "source": [
    "# Q6:"
   ]
  },
  {
   "cell_type": "markdown",
   "metadata": {},
   "source": [
    "A number raised to the third power is called a cube. For example,\n",
    "the cube of 2 is written as 2**3 in Python. Make a list of the first 10 cubes (that\n",
    "is, the cube of each integer from 1 through 10), and use a for loop to print out\n",
    "the value of each cube"
   ]
  },
  {
   "cell_type": "code",
   "execution_count": 24,
   "metadata": {},
   "outputs": [
    {
     "name": "stdout",
     "output_type": "stream",
     "text": [
      "1\n",
      "8\n",
      "27\n",
      "64\n",
      "125\n",
      "216\n",
      "343\n",
      "512\n",
      "729\n",
      "1000\n"
     ]
    }
   ],
   "source": [
    "cubes = []\n",
    "for number in range(1, 11):\n",
    "    cube = number**3\n",
    "    cubes.append(cube)\n",
    "\n",
    "for cube in cubes:\n",
    "    print(cube)"
   ]
  },
  {
   "cell_type": "code",
   "execution_count": null,
   "metadata": {},
   "outputs": [],
   "source": []
  },
  {
   "cell_type": "code",
   "execution_count": null,
   "metadata": {},
   "outputs": [],
   "source": []
  },
  {
   "cell_type": "code",
   "execution_count": null,
   "metadata": {},
   "outputs": [],
   "source": []
  },
  {
   "cell_type": "markdown",
   "metadata": {},
   "source": [
    "# Q7:"
   ]
  },
  {
   "cell_type": "markdown",
   "metadata": {},
   "source": [
    "###### Make a python program that conatains your nine favourite dishes in a list called foods.\n",
    "\n",
    "###### Print the message, The first three items in the list are:. \n",
    "###### Then use a slice to print the first three items from that program’s list.\n",
    "\n",
    "###### Print the message, Three items from the middle of the list are:\n",
    "###### Use a slice to print three items from the middle of the list.\n",
    "\n",
    "###### Print the message, The last three items in the list are:\n",
    "###### Use a slice to print the last three items in the list."
   ]
  },
  {
   "cell_type": "code",
   "execution_count": 28,
   "metadata": {},
   "outputs": [],
   "source": [
    "foods = [\"Pizza\",\"pasta\",\"Biryani\",\"plao\",\"Club sandwich\",\"burger\",\"Karahi\",\"haleem\",\"Daal\"]\n"
   ]
  },
  {
   "cell_type": "code",
   "execution_count": 29,
   "metadata": {},
   "outputs": [
    {
     "name": "stdout",
     "output_type": "stream",
     "text": [
      "The first three items in the list are:\n",
      "['Pizza', 'pasta', 'Biryani']\n"
     ]
    }
   ],
   "source": [
    "print(\"The first three items in the list are:\")\n",
    "print(foods[0:3])"
   ]
  },
  {
   "cell_type": "code",
   "execution_count": 30,
   "metadata": {},
   "outputs": [
    {
     "name": "stdout",
     "output_type": "stream",
     "text": [
      "\n",
      "Three items from the middle of the list are:\n",
      "['plao', 'Club sandwich', 'burger']\n"
     ]
    }
   ],
   "source": [
    "print(\"\\nThree items from the middle of the list are:\")    \n",
    "print(foods[3:6])"
   ]
  },
  {
   "cell_type": "code",
   "execution_count": 31,
   "metadata": {},
   "outputs": [
    {
     "name": "stdout",
     "output_type": "stream",
     "text": [
      "\n",
      "The last three items in the list are:\n",
      "['Karahi', 'haleem', 'Daal']\n"
     ]
    }
   ],
   "source": [
    "print(\"\\nThe last three items in the list are:\")    \n",
    "print(foods[6:10])"
   ]
  },
  {
   "cell_type": "markdown",
   "metadata": {},
   "source": [
    "# Q8:"
   ]
  },
  {
   "cell_type": "markdown",
   "metadata": {},
   "source": [
    "### Start with your program from your last Question8.\n",
    "###### Make a copy of the list of foods, and call it friend_foods.\n",
    "###### Then, do the following:\n",
    "######    Add a new dish to the original list.\n",
    "######    Add a different dish to the list friend_foodss.\n",
    "######    Prove that you have two separate lists. \n",
    "###### Print the message, My favorite pizzas are: and then use a for loop to print the first list. \n",
    "###### Print the message,\n",
    "###### My friend’s favorite foods are:, and then use a for loop to print the second list.\n",
    "    \n",
    "##### NOTE: Make sure each new dish is stored in the appropriate list."
   ]
  },
  {
   "cell_type": "code",
   "execution_count": 32,
   "metadata": {},
   "outputs": [
    {
     "name": "stdout",
     "output_type": "stream",
     "text": [
      "\n",
      " my_favourite_food are: \n",
      "\n",
      "biryani\n",
      "pasta\n",
      "karhai\n",
      "nihari\n",
      "chinies\n",
      "\n",
      " my_friends_fav_food are :\n",
      "\n",
      "biryani\n",
      "pasta\n",
      "karhai\n",
      "nihari\n",
      "shuwarma\n"
     ]
    }
   ],
   "source": [
    "my_favourite_food = [\"biryani\" , \"pasta\" , \"karhai\" , \"nihari\"]\n",
    "my_friends_fav_food = my_favourite_food.copy()\n",
    "\n",
    "my_favourite_food.append('chinies')\n",
    "\n",
    "my_friends_fav_food.append('shuwarma')\n",
    "my_favourite_food.copy()\n",
    "\n",
    "\n",
    "print('\\n my_favourite_food are: \\n') \n",
    "for foods in my_favourite_food:\n",
    "  print(foods)\n",
    "print(\"\\n my_friends_fav_food are :\\n\")\n",
    "for foods in my_friends_fav_food:\n",
    "  print(foods)"
   ]
  },
  {
   "cell_type": "code",
   "execution_count": null,
   "metadata": {},
   "outputs": [],
   "source": []
  },
  {
   "cell_type": "code",
   "execution_count": null,
   "metadata": {},
   "outputs": [],
   "source": []
  },
  {
   "cell_type": "code",
   "execution_count": null,
   "metadata": {},
   "outputs": [],
   "source": []
  },
  {
   "cell_type": "code",
   "execution_count": null,
   "metadata": {},
   "outputs": [],
   "source": []
  },
  {
   "cell_type": "code",
   "execution_count": null,
   "metadata": {},
   "outputs": [],
   "source": [
    " "
   ]
  },
  {
   "cell_type": "code",
   "execution_count": null,
   "metadata": {},
   "outputs": [],
   "source": []
  },
  {
   "cell_type": "markdown",
   "metadata": {},
   "source": [
    "# Q9:"
   ]
  },
  {
   "cell_type": "markdown",
   "metadata": {},
   "source": [
    "Take a user input from console line.Store it in a variable called Alien_color.\n",
    "\n",
    "If the alien’s color is red, print a statement that the player just earned 5 points for shooting the alien.\n",
    "\n",
    "If the alien’s color isn’t green, print a statement that the player just earned 10 points.\n",
    "\n",
    "If the alien's color isn't red or green , print a statment :, Alien is no more....."
   ]
  },
  {
   "cell_type": "code",
   "execution_count": 33,
   "metadata": {},
   "outputs": [
    {
     "name": "stdout",
     "output_type": "stream",
     "text": [
      "enter your colour: red\n",
      "The player just earned 5 points for shooting the alien.\n"
     ]
    }
   ],
   "source": [
    "Alien_color=input ('enter your colour: ')\n",
    "if Alien_color=='red':\n",
    "    print('The player just earned 5 points for shooting the alien.')\n",
    "elif Alien_color!='green':\n",
    "    print('The player just earned 10 points')\n",
    "else:\n",
    "    print('Alien is no more.....')"
   ]
  },
  {
   "cell_type": "code",
   "execution_count": null,
   "metadata": {},
   "outputs": [],
   "source": []
  },
  {
   "cell_type": "code",
   "execution_count": null,
   "metadata": {},
   "outputs": [],
   "source": []
  },
  {
   "cell_type": "code",
   "execution_count": null,
   "metadata": {},
   "outputs": [],
   "source": []
  },
  {
   "cell_type": "markdown",
   "metadata": {},
   "source": [
    "# Q10:"
   ]
  },
  {
   "cell_type": "markdown",
   "metadata": {},
   "source": [
    "Write an if-elif-else chain that determines a person’s\n",
    "stage of life. Set a value for the variable age, and then:\n",
    "    \n",
    "•\t If the person is less than 2 years old, print a message that the person is a baby.\n",
    "\n",
    "•\t If the person is at least 2 years old but less than 4, print a message that the person is a toddler.\n",
    "\n",
    "•\t If the person is at least 4 years old but less than 13, print a message that the person is a kid.\n",
    "\n",
    "•\t If the person is at least 13 years old but less than 20, print a message that the person is a teenager.\n",
    "\n",
    "•\t If the person is at least 20 years old but less than 65, print a message that the person is an adult.\n",
    "\n",
    "•\t If the person is age 65 or older, print a message that the person is an elder."
   ]
  },
  {
   "cell_type": "code",
   "execution_count": 34,
   "metadata": {},
   "outputs": [
    {
     "name": "stdout",
     "output_type": "stream",
     "text": [
      "Enter your age: 21\n"
     ]
    }
   ],
   "source": [
    "age = int(input(\"Enter your age: \"))\n"
   ]
  },
  {
   "cell_type": "code",
   "execution_count": 35,
   "metadata": {},
   "outputs": [
    {
     "name": "stdout",
     "output_type": "stream",
     "text": [
      "Person is an Adult.\n"
     ]
    }
   ],
   "source": [
    "if age < 2:\n",
    "    print(\"Person is a Baby\")\n",
    "elif age >= 2 and age < 4:\n",
    "    print(\"Person is a Toddler.\")\n",
    "elif age >= 4 and age < 13:\n",
    "    print(\"Person is a Kid.\")\n",
    "elif age >=13 and age < 20:\n",
    "    print(\"Person is a Teenager.\")\n",
    "elif age >=20 and age < 65:\n",
    "    print(\"Person is an Adult.\")\n",
    "elif age == 65 or age > 65:\n",
    "    print(\"Person is Elder.\")"
   ]
  },
  {
   "cell_type": "code",
   "execution_count": null,
   "metadata": {},
   "outputs": [],
   "source": []
  },
  {
   "cell_type": "code",
   "execution_count": null,
   "metadata": {},
   "outputs": [],
   "source": []
  },
  {
   "cell_type": "code",
   "execution_count": null,
   "metadata": {},
   "outputs": [],
   "source": []
  },
  {
   "cell_type": "code",
   "execution_count": null,
   "metadata": {},
   "outputs": [],
   "source": []
  },
  {
   "cell_type": "markdown",
   "metadata": {},
   "source": [
    "# Q11:"
   ]
  },
  {
   "cell_type": "markdown",
   "metadata": {},
   "source": [
    "Do the following to create a program that simulates how websites ensure that everyone has a unique username.\n",
    "\n",
    "•\t Make a list of five or more usernames called current_users.\n",
    "\n",
    "•\t Make another list of five usernames called new_users. \n",
    "Make sure one or two of the new usernames are also in the current_users list.\n",
    "\n",
    "•\t Loop through the new_users list to see if each new username has already been used. \n",
    "If it has, print a message that the person will need to enter a new username. \n",
    "If a username has not been used, print a message saying that the username is available.\n",
    "\n",
    "•\t Make sure your comparison is case insensitive. If 'John' has been used, 'JOHN' should not be accepted."
   ]
  },
  {
   "cell_type": "code",
   "execution_count": 36,
   "metadata": {},
   "outputs": [
    {
     "name": "stdout",
     "output_type": "stream",
     "text": [
      "asher username is available.\n",
      "suhab username is available.\n",
      "owais username is available.\n",
      "zuhaib username is available.\n",
      "Aziz username is available.\n"
     ]
    }
   ],
   "source": [
    "\n",
    "current_users = [\"rahym\",\"faheem\",\"yasir\",\"ubaid\",\"Zahid\"]\n",
    "new_users = [\"asher\",\"suhab\",\"owais\",\"zuhaib\",\"Aziz\"]\n",
    "for x in new_users:\n",
    "    i = len(current_users)-1\n",
    "    while i>=0: \n",
    "        if x.lower() == current_users[i].lower():\n",
    "            print(f\"{x} username has already taken enter a new username.\")\n",
    "            break;\n",
    "        i-=1\n",
    "    if i<0:\n",
    "         print(f\"{x} username is available.\")"
   ]
  },
  {
   "cell_type": "code",
   "execution_count": null,
   "metadata": {},
   "outputs": [],
   "source": []
  },
  {
   "cell_type": "code",
   "execution_count": null,
   "metadata": {},
   "outputs": [],
   "source": []
  },
  {
   "cell_type": "code",
   "execution_count": null,
   "metadata": {},
   "outputs": [],
   "source": []
  },
  {
   "cell_type": "markdown",
   "metadata": {},
   "source": [
    "# Q12:"
   ]
  },
  {
   "cell_type": "markdown",
   "metadata": {},
   "source": [
    "Use a dictionary to store information about a person you know.\n",
    "Store their first name, last name, age, and the city in which they live. \n",
    "You should have keys such as first_name, last_name, age, and city. \n",
    "Print each piece of information stored in your dictionary"
   ]
  },
  {
   "cell_type": "code",
   "execution_count": 41,
   "metadata": {},
   "outputs": [
    {
     "name": "stdout",
     "output_type": "stream",
     "text": [
      "My name is hareem fatima, i am 21years old. I live in Karachi\n"
     ]
    }
   ],
   "source": [
    "person={\"first_name\":\"hareem\",\"last_name\":\"fatima\",\"age\":21,\"city\":\"Karachi\"}\n",
    "\n",
    "print(\"My name is \"+ str(person[\"first_name\"] )+\" \"+ str(person[\"last_name\"])+\", i am \" + str(person [\"age\"]) + (\"years old. I live in \")+str(person[\"city\"]))"
   ]
  },
  {
   "cell_type": "code",
   "execution_count": null,
   "metadata": {},
   "outputs": [],
   "source": []
  },
  {
   "cell_type": "code",
   "execution_count": null,
   "metadata": {},
   "outputs": [],
   "source": []
  },
  {
   "cell_type": "code",
   "execution_count": null,
   "metadata": {},
   "outputs": [],
   "source": []
  },
  {
   "cell_type": "markdown",
   "metadata": {},
   "source": [
    "# Q13:"
   ]
  },
  {
   "cell_type": "markdown",
   "metadata": {},
   "source": [
    "Starts with your last question 12 , loop through the dictionary’s keys and values.\n",
    "When you’re sure that your loop works, add five more Python terms to your\n",
    "dictionary . When you run your program again, these new words and meanings\n",
    "should automatically be included in the output."
   ]
  },
  {
   "cell_type": "code",
   "execution_count": 42,
   "metadata": {},
   "outputs": [
    {
     "name": "stdout",
     "output_type": "stream",
     "text": [
      "First_name: hareem\n",
      "Last_name: fatima\n",
      "Age: 21\n",
      "City: Karachi\n"
     ]
    }
   ],
   "source": [
    "Person = {\"First_name\": \"hareem\" , \"Last_name\": \"fatima\" , \"Age\": \"21\" , \"City\": \"Karachi\"}\n",
    "\n",
    "for key, value in Person.items():\n",
    "    print(key + \": \" + value)"
   ]
  },
  {
   "cell_type": "code",
   "execution_count": 43,
   "metadata": {},
   "outputs": [
    {
     "name": "stdout",
     "output_type": "stream",
     "text": [
      "First_name: hareem\n",
      "Last_name: fatima\n",
      "Age: 21\n",
      "City: Karachi\n",
      "print: print the statement\n",
      "pass: to pass\n",
      "if: condition\n",
      "break: to stop a loop\n",
      "else: other condition\n"
     ]
    }
   ],
   "source": [
    "\n",
    "Person[\"print\"] = \"print the statement\"\n",
    "Person[\"pass\"] = \"to pass\"\n",
    "Person[\"if\"] = \"condition\"\n",
    "Person[\"break\"] = \"to stop a loop\"\n",
    "Person[\"else\"] = \"other condition\"\n",
    "\n",
    "for key, value in Person.items():\n",
    "    print(key + \": \" + value)"
   ]
  },
  {
   "cell_type": "code",
   "execution_count": null,
   "metadata": {},
   "outputs": [],
   "source": []
  },
  {
   "cell_type": "code",
   "execution_count": null,
   "metadata": {},
   "outputs": [],
   "source": []
  },
  {
   "cell_type": "code",
   "execution_count": null,
   "metadata": {},
   "outputs": [],
   "source": []
  },
  {
   "cell_type": "markdown",
   "metadata": {},
   "source": [
    "# Q14:"
   ]
  },
  {
   "cell_type": "markdown",
   "metadata": {},
   "source": [
    "Make a dictionary containing three major rivers and the country\n",
    "each river runs through. One key-value pair might be 'nile': 'egypt'.\n",
    "    \n",
    "    \n",
    "•\t Use a loop to print a sentence about each river, such as The Nile runs\n",
    "through Egypt.\n",
    "\n",
    "NOTE: use upper case through keys and values."
   ]
  },
  {
   "cell_type": "code",
   "execution_count": 44,
   "metadata": {},
   "outputs": [
    {
     "name": "stdout",
     "output_type": "stream",
     "text": [
      "The NILE runs through EGYPT.\n",
      "The CHAOPHRAYA runs through THILAND.\n",
      "The TIGRIS runs through IRAQ.\n"
     ]
    }
   ],
   "source": [
    "rivers = {\"nile\": \"egypt\", \"chaophraya\": \"thiland\", \"tigris\": \"iraq\"}\n",
    "\n",
    "for river, country in rivers.items():\n",
    "    print(\"The \" + river.upper() + \" runs through \" + country.upper() + \".\")"
   ]
  },
  {
   "cell_type": "code",
   "execution_count": null,
   "metadata": {},
   "outputs": [],
   "source": []
  },
  {
   "cell_type": "code",
   "execution_count": null,
   "metadata": {},
   "outputs": [],
   "source": []
  },
  {
   "cell_type": "markdown",
   "metadata": {},
   "source": [
    "# Q15:"
   ]
  },
  {
   "cell_type": "markdown",
   "metadata": {},
   "source": [
    "Make several dictionaries, where the name of each dictionary is the\n",
    "name of a pet. In each dictionary, include the kind of animal and the owner’s\n",
    "name. Store these dictionaries in a list called pets. Next, loop through your list\n",
    "and as you do print everything you know about each pet."
   ]
  },
  {
   "cell_type": "code",
   "execution_count": 47,
   "metadata": {},
   "outputs": [
    {
     "name": "stdout",
     "output_type": "stream",
     "text": [
      "Pet 1 : cat\n",
      "Owner : saba\n",
      "Pet 2 : dog\n",
      "Owner : rahym\n",
      "Pet 3 : rabbits\n",
      "Owner : hareem\n",
      "Pet 4 : rats\n",
      "Owner : fatima\n"
     ]
    }
   ],
   "source": [
    "dict_1 = {'Pet 1' : 'cat' , 'Owner' : 'saba',}\n",
    "dict_2 = {'Pet 2':'dog'  ,'Owner' : 'rahym' ,}\n",
    "dict_3 = {'Pet 3' : 'rabbits' , 'Owner' : 'hareem',}\n",
    "dict_4 = {'Pet 4' : 'rats' , 'Owner' : 'fatima',}\n",
    "pets = [dict_1,dict_2,dict_3,dict_4]\n",
    "for pet in pets :\n",
    "    for keys,values in pet.items() :\n",
    "        print(f\"{keys} : {values}\")"
   ]
  },
  {
   "cell_type": "code",
   "execution_count": null,
   "metadata": {},
   "outputs": [],
   "source": []
  }
 ],
 "metadata": {
  "kernelspec": {
   "display_name": "Python 3",
   "language": "python",
   "name": "python3"
  },
  "language_info": {
   "codemirror_mode": {
    "name": "ipython",
    "version": 3
   },
   "file_extension": ".py",
   "mimetype": "text/x-python",
   "name": "python",
   "nbconvert_exporter": "python",
   "pygments_lexer": "ipython3",
   "version": "3.7.3"
  }
 },
 "nbformat": 4,
 "nbformat_minor": 2
}
